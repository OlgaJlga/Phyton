{
  "nbformat": 4,
  "nbformat_minor": 0,
  "metadata": {
    "colab": {
      "provenance": []
    },
    "kernelspec": {
      "name": "python3",
      "display_name": "Python 3"
    },
    "language_info": {
      "name": "python"
    }
  },
  "cells": [
    {
      "cell_type": "code",
      "source": [
        "import pandas as pd\n",
        "import numpy as np"
      ],
      "metadata": {
        "id": "52nQxxMQaUWj"
      },
      "execution_count": 30,
      "outputs": []
    },
    {
      "cell_type": "code",
      "source": [
        "from tabulate import tabulate"
      ],
      "metadata": {
        "id": "Y4yiVjzPTF2i"
      },
      "execution_count": 31,
      "outputs": []
    },
    {
      "cell_type": "code",
      "source": [
        "import random\n",
        "lst = ['robot'] * 10\n",
        "lst += ['human'] * 10\n",
        "random.shuffle(lst)\n",
        "data = pd.DataFrame({'whoAmI':lst})\n",
        "data.head()"
      ],
      "metadata": {
        "colab": {
          "base_uri": "https://localhost:8080/",
          "height": 206
        },
        "id": "JXlYhahXNG3b",
        "outputId": "6dde78ff-18ff-4027-ca41-4497524f5fa3"
      },
      "execution_count": 32,
      "outputs": [
        {
          "output_type": "execute_result",
          "data": {
            "text/plain": [
              "  whoAmI\n",
              "0  robot\n",
              "1  robot\n",
              "2  human\n",
              "3  human\n",
              "4  robot"
            ],
            "text/html": [
              "\n",
              "  <div id=\"df-dfcd9a14-1cc3-473a-ae72-152f84da3089\">\n",
              "    <div class=\"colab-df-container\">\n",
              "      <div>\n",
              "<style scoped>\n",
              "    .dataframe tbody tr th:only-of-type {\n",
              "        vertical-align: middle;\n",
              "    }\n",
              "\n",
              "    .dataframe tbody tr th {\n",
              "        vertical-align: top;\n",
              "    }\n",
              "\n",
              "    .dataframe thead th {\n",
              "        text-align: right;\n",
              "    }\n",
              "</style>\n",
              "<table border=\"1\" class=\"dataframe\">\n",
              "  <thead>\n",
              "    <tr style=\"text-align: right;\">\n",
              "      <th></th>\n",
              "      <th>whoAmI</th>\n",
              "    </tr>\n",
              "  </thead>\n",
              "  <tbody>\n",
              "    <tr>\n",
              "      <th>0</th>\n",
              "      <td>robot</td>\n",
              "    </tr>\n",
              "    <tr>\n",
              "      <th>1</th>\n",
              "      <td>robot</td>\n",
              "    </tr>\n",
              "    <tr>\n",
              "      <th>2</th>\n",
              "      <td>human</td>\n",
              "    </tr>\n",
              "    <tr>\n",
              "      <th>3</th>\n",
              "      <td>human</td>\n",
              "    </tr>\n",
              "    <tr>\n",
              "      <th>4</th>\n",
              "      <td>robot</td>\n",
              "    </tr>\n",
              "  </tbody>\n",
              "</table>\n",
              "</div>\n",
              "      <button class=\"colab-df-convert\" onclick=\"convertToInteractive('df-dfcd9a14-1cc3-473a-ae72-152f84da3089')\"\n",
              "              title=\"Convert this dataframe to an interactive table.\"\n",
              "              style=\"display:none;\">\n",
              "        \n",
              "  <svg xmlns=\"http://www.w3.org/2000/svg\" height=\"24px\"viewBox=\"0 0 24 24\"\n",
              "       width=\"24px\">\n",
              "    <path d=\"M0 0h24v24H0V0z\" fill=\"none\"/>\n",
              "    <path d=\"M18.56 5.44l.94 2.06.94-2.06 2.06-.94-2.06-.94-.94-2.06-.94 2.06-2.06.94zm-11 1L8.5 8.5l.94-2.06 2.06-.94-2.06-.94L8.5 2.5l-.94 2.06-2.06.94zm10 10l.94 2.06.94-2.06 2.06-.94-2.06-.94-.94-2.06-.94 2.06-2.06.94z\"/><path d=\"M17.41 7.96l-1.37-1.37c-.4-.4-.92-.59-1.43-.59-.52 0-1.04.2-1.43.59L10.3 9.45l-7.72 7.72c-.78.78-.78 2.05 0 2.83L4 21.41c.39.39.9.59 1.41.59.51 0 1.02-.2 1.41-.59l7.78-7.78 2.81-2.81c.8-.78.8-2.07 0-2.86zM5.41 20L4 18.59l7.72-7.72 1.47 1.35L5.41 20z\"/>\n",
              "  </svg>\n",
              "      </button>\n",
              "      \n",
              "  <style>\n",
              "    .colab-df-container {\n",
              "      display:flex;\n",
              "      flex-wrap:wrap;\n",
              "      gap: 12px;\n",
              "    }\n",
              "\n",
              "    .colab-df-convert {\n",
              "      background-color: #E8F0FE;\n",
              "      border: none;\n",
              "      border-radius: 50%;\n",
              "      cursor: pointer;\n",
              "      display: none;\n",
              "      fill: #1967D2;\n",
              "      height: 32px;\n",
              "      padding: 0 0 0 0;\n",
              "      width: 32px;\n",
              "    }\n",
              "\n",
              "    .colab-df-convert:hover {\n",
              "      background-color: #E2EBFA;\n",
              "      box-shadow: 0px 1px 2px rgba(60, 64, 67, 0.3), 0px 1px 3px 1px rgba(60, 64, 67, 0.15);\n",
              "      fill: #174EA6;\n",
              "    }\n",
              "\n",
              "    [theme=dark] .colab-df-convert {\n",
              "      background-color: #3B4455;\n",
              "      fill: #D2E3FC;\n",
              "    }\n",
              "\n",
              "    [theme=dark] .colab-df-convert:hover {\n",
              "      background-color: #434B5C;\n",
              "      box-shadow: 0px 1px 3px 1px rgba(0, 0, 0, 0.15);\n",
              "      filter: drop-shadow(0px 1px 2px rgba(0, 0, 0, 0.3));\n",
              "      fill: #FFFFFF;\n",
              "    }\n",
              "  </style>\n",
              "\n",
              "      <script>\n",
              "        const buttonEl =\n",
              "          document.querySelector('#df-dfcd9a14-1cc3-473a-ae72-152f84da3089 button.colab-df-convert');\n",
              "        buttonEl.style.display =\n",
              "          google.colab.kernel.accessAllowed ? 'block' : 'none';\n",
              "\n",
              "        async function convertToInteractive(key) {\n",
              "          const element = document.querySelector('#df-dfcd9a14-1cc3-473a-ae72-152f84da3089');\n",
              "          const dataTable =\n",
              "            await google.colab.kernel.invokeFunction('convertToInteractive',\n",
              "                                                     [key], {});\n",
              "          if (!dataTable) return;\n",
              "\n",
              "          const docLinkHtml = 'Like what you see? Visit the ' +\n",
              "            '<a target=\"_blank\" href=https://colab.research.google.com/notebooks/data_table.ipynb>data table notebook</a>'\n",
              "            + ' to learn more about interactive tables.';\n",
              "          element.innerHTML = '';\n",
              "          dataTable['output_type'] = 'display_data';\n",
              "          await google.colab.output.renderOutput(dataTable, element);\n",
              "          const docLink = document.createElement('div');\n",
              "          docLink.innerHTML = docLinkHtml;\n",
              "          element.appendChild(docLink);\n",
              "        }\n",
              "      </script>\n",
              "    </div>\n",
              "  </div>\n",
              "  "
            ]
          },
          "metadata": {},
          "execution_count": 32
        }
      ]
    },
    {
      "cell_type": "code",
      "source": [
        "import random\n",
        "data = [['robot', 1], \n",
        "        ['human', 0]]*10\n",
        "random.shuffle(data)\n",
        "col_names = [\"whoAmI\", \"index\"]\n",
        "print(tabulate(data, headers=col_names, tablefmt=\"fancy_grid\", showindex=\"always\"))"
      ],
      "metadata": {
        "colab": {
          "base_uri": "https://localhost:8080/"
        },
        "id": "AkysRkDfRTnL",
        "outputId": "b674041c-758c-4698-f19b-b5222a1cb0de"
      },
      "execution_count": 33,
      "outputs": [
        {
          "output_type": "stream",
          "name": "stdout",
          "text": [
            "╒════╤══════════╤═════════╕\n",
            "│    │ whoAmI   │   index │\n",
            "╞════╪══════════╪═════════╡\n",
            "│  0 │ human    │       0 │\n",
            "├────┼──────────┼─────────┤\n",
            "│  1 │ robot    │       1 │\n",
            "├────┼──────────┼─────────┤\n",
            "│  2 │ robot    │       1 │\n",
            "├────┼──────────┼─────────┤\n",
            "│  3 │ robot    │       1 │\n",
            "├────┼──────────┼─────────┤\n",
            "│  4 │ robot    │       1 │\n",
            "├────┼──────────┼─────────┤\n",
            "│  5 │ human    │       0 │\n",
            "├────┼──────────┼─────────┤\n",
            "│  6 │ human    │       0 │\n",
            "├────┼──────────┼─────────┤\n",
            "│  7 │ human    │       0 │\n",
            "├────┼──────────┼─────────┤\n",
            "│  8 │ robot    │       1 │\n",
            "├────┼──────────┼─────────┤\n",
            "│  9 │ human    │       0 │\n",
            "├────┼──────────┼─────────┤\n",
            "│ 10 │ robot    │       1 │\n",
            "├────┼──────────┼─────────┤\n",
            "│ 11 │ human    │       0 │\n",
            "├────┼──────────┼─────────┤\n",
            "│ 12 │ robot    │       1 │\n",
            "├────┼──────────┼─────────┤\n",
            "│ 13 │ human    │       0 │\n",
            "├────┼──────────┼─────────┤\n",
            "│ 14 │ human    │       0 │\n",
            "├────┼──────────┼─────────┤\n",
            "│ 15 │ human    │       0 │\n",
            "├────┼──────────┼─────────┤\n",
            "│ 16 │ robot    │       1 │\n",
            "├────┼──────────┼─────────┤\n",
            "│ 17 │ robot    │       1 │\n",
            "├────┼──────────┼─────────┤\n",
            "│ 18 │ human    │       0 │\n",
            "├────┼──────────┼─────────┤\n",
            "│ 19 │ robot    │       1 │\n",
            "╘════╧══════════╧═════════╛\n"
          ]
        }
      ]
    },
    {
      "cell_type": "code",
      "source": [
        "lst = ['robot'] * 10\n",
        "lst += ['human'] * 10\n",
        "random.shuffle(lst)\n",
        "data = pd.DataFrame({'whoAmI': lst})\n",
        "print('DataFrame: ', data.head())\n",
        "unique_vals = data['whoAmI'].unique()\n",
        "one_hot_data = pd.DataFrame(columns=unique_vals)\n",
        "for val in unique_vals:\n",
        "  one_hot_data[val]= (data['whoAmI'] == val).astype(int)\n",
        "print('whoAmI\\n', one_hot_data.head())"
      ],
      "metadata": {
        "colab": {
          "base_uri": "https://localhost:8080/"
        },
        "id": "uEAgZlKmb2bv",
        "outputId": "a7670368-4b50-45d6-8856-cd08b7658cce"
      },
      "execution_count": 34,
      "outputs": [
        {
          "output_type": "stream",
          "name": "stdout",
          "text": [
            "DataFrame:    whoAmI\n",
            "0  human\n",
            "1  human\n",
            "2  robot\n",
            "3  human\n",
            "4  robot\n",
            "whoAmI\n",
            "    human  robot\n",
            "0      1      0\n",
            "1      1      0\n",
            "2      0      1\n",
            "3      1      0\n",
            "4      0      1\n"
          ]
        }
      ]
    }
  ]
}